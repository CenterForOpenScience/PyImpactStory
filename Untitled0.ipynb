{
 "metadata": {
  "name": "",
  "signature": "sha256:c159e14495398574f13e6367e7ded478633001700d900e34443594c1733d5cc0"
 },
 "nbformat": 3,
 "nbformat_minor": 0,
 "worksheets": []
}